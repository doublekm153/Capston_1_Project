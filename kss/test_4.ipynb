{
 "cells": [
  {
   "cell_type": "code",
   "execution_count": 1,
   "metadata": {},
   "outputs": [],
   "source": [
    "import kss\n",
    "import os\n",
    "import re"
   ]
  },
  {
   "cell_type": "code",
   "execution_count": 5,
   "metadata": {},
   "outputs": [],
   "source": [
    "def process_file(input_file, output_file):\n",
    "    with open(input_file, 'r', encoding='utf-8') as file:\n",
    "        data = file.read()\n",
    "\n",
    "    words_with_timestamps = re.findall(r\"(\\S+)\\s+-\\s+시작:\\s+(\\d+\\.\\d)초,\\s+끝:\\s+(\\d.\\d)초\", data)\n",
    "\n",
    "    sentences = kss.split_sentences(\" \".join([word for word, _, _ in words_with_timestamps]))\n",
    "    sentence_start_times = {}\n",
    "    sentence_end_times = {}\n",
    "\n",
    "    for word, start_time, end_time in words_with_timestamps:\n",
    "        sentence_start_times[word] = float(start_time)\n",
    "        sentence_end_times[word] = float(end_time)\n",
    "\n",
    "    with open(output_file, 'w', encoding='utf-8') as file:\n",
    "        for sentence in sentences:\n",
    "            words = sentence.split()\n",
    "            start_time = sentence_start_times.get(words[0], 0)\n",
    "            end_time = sentence_end_times.get(words[-1], 0) # 변경된 부분\n",
    "            file.write(f\"{sentence} - 시작: {start_time:.1f}초, 끝: {end_time:.1f}초\\n\\n\")\n"
   ]
  },
  {
   "cell_type": "code",
   "execution_count": 6,
   "metadata": {},
   "outputs": [],
   "source": [
    "input_folder = \"D:\\\\video-summarization-master\\\\videos\\\\time_text\"\n",
    "output_folder = \"D:\\\\video-summarization-master\\\\videos\\\\kss_text\"\n",
    "\n",
    "os.makedirs(output_folder, exist_ok=True)\n",
    "\n",
    "for file_name in os.listdir(input_folder):\n",
    "    input_file = os.path.join(input_folder, file_name)\n",
    "    output_file = os.path.join(output_folder, file_name)\n",
    "    process_file(input_file, output_file)"
   ]
  },
  {
   "cell_type": "code",
   "execution_count": 20,
   "metadata": {},
   "outputs": [],
   "source": [
    "import os\n",
    "\n",
    "def process_file_improved(input_file, output_file):\n",
    "    with open(input_file, 'r', encoding='utf-8') as file:\n",
    "        data = file.readlines()\n",
    "\n",
    "    current_sentence = \"\"\n",
    "    first_time = data[0].split(\" - \")[-1].split(\"초, \")[0].split(\"시작: \")[1]\n",
    "    last_time = \"\"\n",
    "\n",
    "    for line in data:\n",
    "        line = line.strip()\n",
    "        if line:\n",
    "            current_sentence, time = line.split(\" - \")\n",
    "            current_sentence = current_sentence.strip()\n",
    "            last_time = time.split(\"초, \")[1].split(\"끝: \")[1]\n",
    "\n",
    "    with open(output_file, 'w', encoding='utf-8') as file:\n",
    "        file.write(f\"{current_sentence} - 시작: {first_time}초, 끝: {last_time}초\\n\\n\")\n",
    "\n",
    "input_folder = \"D:\\\\video-summarization-master\\\\videos\\\\time_text\"\n",
    "output_folder = \"D:\\\\video-summarization-master\\\\videos\\\\kss_text_2\"\n",
    "\n",
    "os.makedirs(output_folder, exist_ok=True)\n",
    "\n",
    "for file_name in os.listdir(input_folder):\n",
    "    input_file = os.path.join(input_folder, file_name)\n",
    "    output_file = os.path.join(output_folder, file_name)\n",
    "    process_file_improved(input_file, output_file)\n",
    "\n"
   ]
  },
  {
   "cell_type": "code",
   "execution_count": 2,
   "metadata": {},
   "outputs": [],
   "source": [
    "import subprocess\n",
    "import os\n",
    "\n",
    "input_directory = \"D:\\\\video-summarization-master\\\\videos\\\\ffmpeg_data\"\n",
    "output_directory = \"D:\\\\video-summarization-master\\\\videos\\\\ffmpeg_wav\"\n",
    "\n",
    "def convert_mp4_to_wav(input_directory, output_directory):\n",
    "    for filename in os.listdir(input_directory):\n",
    "        if filename.endswith(\".mp4\"):\n",
    "            input_file_path = os.path.join(input_directory, filename)\n",
    "            output_file_path = os.path.join(output_directory, filename[:-4] + \".wav\")\n",
    "            command = f'ffmpeg -i \"{input_file_path}\" -vn -ac 2 -ar 44100 -ab 320k -f wav \"{output_file_path}\"'\n",
    "            subprocess.call(command, shell=True)\n",
    "\n",
    "convert_mp4_to_wav(input_directory, output_directory)\n"
   ]
  },
  {
   "cell_type": "code",
   "execution_count": null,
   "metadata": {},
   "outputs": [],
   "source": [
    "\n"
   ]
  },
  {
   "cell_type": "code",
   "execution_count": null,
   "metadata": {},
   "outputs": [],
   "source": [
    "\n"
   ]
  },
  {
   "cell_type": "code",
   "execution_count": null,
   "metadata": {},
   "outputs": [],
   "source": []
  },
  {
   "cell_type": "code",
   "execution_count": null,
   "metadata": {},
   "outputs": [],
   "source": [
    "\n"
   ]
  },
  {
   "cell_type": "code",
   "execution_count": null,
   "metadata": {},
   "outputs": [],
   "source": [
    "\n",
    "\n"
   ]
  },
  {
   "cell_type": "code",
   "execution_count": 9,
   "metadata": {},
   "outputs": [],
   "source": []
  },
  {
   "cell_type": "code",
   "execution_count": null,
   "metadata": {},
   "outputs": [],
   "source": [
    "\n"
   ]
  },
  {
   "cell_type": "code",
   "execution_count": null,
   "metadata": {},
   "outputs": [],
   "source": [
    "\n"
   ]
  },
  {
   "cell_type": "code",
   "execution_count": null,
   "metadata": {},
   "outputs": [],
   "source": []
  }
 ],
 "metadata": {
  "kernelspec": {
   "display_name": "project1",
   "language": "python",
   "name": "python3"
  },
  "language_info": {
   "codemirror_mode": {
    "name": "ipython",
    "version": 3
   },
   "file_extension": ".py",
   "mimetype": "text/x-python",
   "name": "python",
   "nbconvert_exporter": "python",
   "pygments_lexer": "ipython3",
   "version": "3.8.16"
  },
  "orig_nbformat": 4
 },
 "nbformat": 4,
 "nbformat_minor": 2
}
